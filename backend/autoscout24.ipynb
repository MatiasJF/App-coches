{
 "cells": [
  {
   "cell_type": "code",
   "execution_count": 45,
   "metadata": {},
   "outputs": [],
   "source": [
    "import json\n",
    "import requests\n",
    "import pandas as pd\n",
    "import numpy as np\n",
    "from dicts.autoscout24 import car_id"
   ]
  },
  {
   "cell_type": "code",
   "execution_count": 46,
   "metadata": {},
   "outputs": [
    {
     "name": "stdout",
     "output_type": "stream",
     "text": [
      "https://www.autoscout24.es/as24-home/api/taxonomy/cars/makes/13/models\n"
     ]
    }
   ],
   "source": [
    "# elegir la marca de coche de car_id con key siendo marca_id y value siendo el nombre de la marca\n",
    "marca = input('Introduce la marca de coche: ')\n",
    "marca_id = list(car_id.keys())[list(car_id.values()).index(marca)]\n",
    "# sacar modelo de marca\n",
    "url_modelos = f'https://www.autoscout24.es/as24-home/api/taxonomy/cars/makes/{marca_id}/models'\n",
    "print(url_modelos)"
   ]
  },
  {
   "cell_type": "code",
   "execution_count": 47,
   "metadata": {},
   "outputs": [
    {
     "name": "stdout",
     "output_type": "stream",
     "text": [
      "{15953: '7-Series 732', 16402: 'Z-Series Z8', 16406: 'X-Series X5', 16436: '6-Series 633', 16558: '3-Series 315', 16598: '7-Series 745', 18308: 'Z-Series Z4', 18327: '7-Series 760', 18383: '5-Series 545', 18387: 'X-Series X3', 18400: '6-Series 645', 18480: '1-Series 116', 18481: '1-Series 118', 18482: '1-Series 120', 1639: '3-Series 316', 1640: '3-Series 318', 1641: '3-Series 320', 1642: '3-Series 323', 1643: '3-Series 324', 1644: '3-Series 325', 1645: '3-Series 328', 1646: 'M-Series M3', 1647: '5-Series 518', 1648: '5-Series 520', 1649: '5-Series 523', 1650: '5-Series 524', 1651: '5-Series 525', 1652: '5-Series 530', 1653: '5-Series 535', 1654: '5-Series 540', 1655: 'M-Series M5', 1656: '6-Series 635', 1657: '7-Series 725', 1658: '7-Series 728', 1659: '7-Series 730', 1660: '7-Series 735', 1661: '7-Series 740', 1662: '7-Series 750', 1663: '8-Series 840', 1664: '8-Series 850', 1665: 'Z-Series Z3', 1666: 'Z-Series Z1', 2145: '5-Series 528', 15779: '3-Series 330', 15780: '6-Series 628', 18588: '1-Series 130', 18577: 'M-Series M6', 18709: '6-Series 650', 18710: '5-Series 550', 18491: '6-Series 630', 18805: '3-Series 335', 19078: '1-Series 123', 19079: '1-Series 135', 19084: '1-Series 125', 19110: 'X-Series X6', 19242: 'X-Series X1', 19541: '7-Series Active Hybrid 7', 19617: 'Z-Series Z4 M', 21097: '3-Series 340', 19714: '6-Series 640', 19741: 'M-Series 1er M Coupé', 20027: '5-Series Active Hybrid 5', 20364: 'X-Series X4', 20481: '2-series 228', 20149: '1-Series 114', 20174: 'X-Series X5 M', 20175: 'X-Series X6 M', 20187: '3-Series Active Hybrid 3', 20287: '4-Series 428', 20288: '4-Series 435', 20289: '4-Series 420', 20393: 'M-Series M4', 20397: '2-series 216', 20398: '4-Series 418', 20399: '4-Series 425', 75189: 'X-Series X7', 75190: 'X-Series X7 M', 20223: 'Z-Series Z3 M', 20326: '2-series 220', 20327: '2-series 218', 20328: '2-series 225', 20329: '2-series 235', 20330: '4-Series 430', 20958: '2-series 214', 21100: '8-Series 830', 75109: 'X-Series Active Hybrid X6', 21157: 'M-Series M2', 74322: 'X-Series X4 M', 74769: 'X-Series X2', 74335: '4-Series 440', 74386: '1-Series 140', 74387: '2-series 230', 74388: '2-series 240', 74993: '6-Series 620', 75278: 'X-Series X2 M', 75279: 'X-Series X3 M', 75280: 'M-Series M850', 75281: 'M-Series M8', 75736: '1-Series 128', 76192: '2-series 223', 76372: 'X-Series XM', 1667: 'M-Series M1', 76389: 'M-Series M550'}\n"
     ]
    }
   ],
   "source": [
    "response = requests.get(url_modelos)\n",
    "if response.status_code == 200:\n",
    "    modelos = json.loads(response.text)\n",
    "    id_nombre = modelos['models']['model']['values']\n",
    "    series = modelos['models']['modelLine']['values']\n",
    "\n",
    "    modelos = {}\n",
    "    for i in id_nombre:\n",
    "        for j in series:\n",
    "            if j['id'] == i['modelLineId']:\n",
    "                modelos[i['id']] = j['name'] + ' ' + i['name']\n",
    "    print(modelos)"
   ]
  },
  {
   "cell_type": "code",
   "execution_count": 48,
   "metadata": {},
   "outputs": [
    {
     "data": {
      "text/plain": [
       "'https://www.autoscout24.es/_next/data/as24-search-funnel_main-4869/lst.json?atype=C&cy=E&damaged_listing=exclude&desc=0&mmmv=14979%7C14984%7C%7C&powertype=kw&search_id=2gnv6bxmzw1&sort=price&source=homepage_search-mask&ustate=N%2CU'"
      ]
     },
     "execution_count": 48,
     "metadata": {},
     "output_type": "execute_result"
    }
   ],
   "source": [
    "url = \"https://www.autoscout24.es/_next/data/as24-search-funnel_main-4869/lst.json?atype=C&cy=E&damaged_listing=exclude&desc=0&mmmv=14979%7C14984%7C%7C&powertype=kw&search_id=2gnv6bxmzw1&sort=price&source=homepage_search-mask&ustate=N%2CU\""
   ]
  }
 ],
 "metadata": {
  "kernelspec": {
   "display_name": ".venv",
   "language": "python",
   "name": "python3"
  },
  "language_info": {
   "codemirror_mode": {
    "name": "ipython",
    "version": 3
   },
   "file_extension": ".py",
   "mimetype": "text/x-python",
   "name": "python",
   "nbconvert_exporter": "python",
   "pygments_lexer": "ipython3",
   "version": "3.8.2"
  }
 },
 "nbformat": 4,
 "nbformat_minor": 2
}
