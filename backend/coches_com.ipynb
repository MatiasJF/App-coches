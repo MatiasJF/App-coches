{
 "cells": [
  {
   "cell_type": "code",
   "execution_count": 29,
   "metadata": {},
   "outputs": [],
   "source": [
    "import json\n",
    "import requests\n",
    "import pandas as pd\n",
    "import numpy as np\n",
    "# from dicts.coches_com import car_id"
   ]
  },
  {
   "cell_type": "code",
   "execution_count": 30,
   "metadata": {},
   "outputs": [],
   "source": [
    "provincias = 'https://www.coches.com/api/provinces/'\n",
    "\n",
    "codigos_api = 'https://www.coches.com/api/vo/help-text/'\n",
    "\n",
    "ulr_trans = 'https://www.coches.com/api/vo/url-translator/?url=L2NvY2hlcy1zZWd1bmRhLW1hbm8vY29jaGVzLW9jYXNpb24uaHRt'\n",
    "# sacar marcas con title (marca y modelo), count y url\n",
    "url_marcas = 'https://www.coches.com/api/vo/pre-footer/?tipo_busqueda=3&seminuevo=0&ord%5B%5D=&searched3=&color=&combustible_id=&precio_desde=&precio_hasta=&scf_fee_desde=&scf_fee_hasta=&potencia_desde=&potencia_hasta=&km_desde=&km_hasta=&anyo_desde=&anyo_hasta=&cambio=&puertas=&plazas=&vendedor=&transmission_name=&agent_type_name=&has_financing=&reservable=&search3='"
   ]
  },
  {
   "cell_type": "code",
   "execution_count": 31,
   "metadata": {},
   "outputs": [],
   "source": [
    "busqueda_props = 'https://www.coches.com/api/vo/pills/?tipo_busqueda=3&seminuevo=0&ord%5B%5D=marca_up&searched3=&color=&combustible_id=&precio_desde=&precio_hasta=&scf_fee_desde=&scf_fee_hasta=&potencia_desde=&potencia_hasta=&km_desde=&km_hasta=&anyo_desde=&anyo_hasta=&cambio=&puertas=&plazas=&vendedor=&make_list%5B%5D=Audi&transmission_name=&agent_type_name=&has_financing=&reservable=&search3=Audi'\n",
    "busqueda_props_headers = {\n",
    "    'authority': 'www.coches.com',\n",
    "    'method': 'GET',\n",
    "    'path': '/api/vo/pills/?tipo_busqueda=3&seminuevo=0&ord%5B%5D=marca_up&searched3=&color=&combustible_id=&precio_desde=&precio_hasta=&scf_fee_desde=&scf_fee_hasta=&potencia_desde=&potencia_hasta=&km_desde=&km_hasta=&anyo_desde=&anyo_hasta=&cambio=&puertas=&plazas=&vendedor=&make_list%5B%5D=Audi&transmission_name=&agent_type_name=&has_financing=&reservable=&search3=Audi',\n",
    "    'scheme': 'https',\n",
    "    'Accept': '*/*',\n",
    "    'Accept-Encoding': 'gzip, deflate, br',\n",
    "    'Accept-Language': 'en-US,en;q=0.6',\n",
    "    'Cookie': 'cmpCCOM=1; SESSID=38c8992262ef2b72d576d63249c04a29',\n",
    "    'Referer': 'https://www.coches.com/coches-segunda-mano/audi.htm',\n",
    "    'Sec-Ch-Ua': '\"Not A(Brand\";v=\"99\", \"Brave\";v=\"121\", \"Chromium\";v=\"121\"',\n",
    "    'Sec-Ch-Ua-Mobile': '?0',\n",
    "    'Sec-Ch-Ua-Platform': '\"Windows\"',\n",
    "    'Sec-Fetch-Dest': 'empty',\n",
    "    'Sec-Fetch-Mode': 'cors',\n",
    "    'Sec-Fetch-Site': 'same-origin',\n",
    "    'Sec-Gpc': '1',\n",
    "    'User-Agent': 'Mozilla/5.0 (Windows NT 10.0; Win64; x64) AppleWebKit/537.36 (KHTML, like Gecko) Chrome/121.0.0.0 Safari/537.36',\n",
    "}\n",
    "\n",
    "busqueda_count_marca = 'https://www.coches.com/api/vo/pre-footer/?tipo_busqueda=3&seminuevo=0&ord%5B%5D=marca_up&searched3=&color=&combustible_id=&precio_desde=&precio_hasta=&scf_fee_desde=&scf_fee_hasta=&potencia_desde=&potencia_hasta=&km_desde=&km_hasta=&anyo_desde=&anyo_hasta=&cambio=&puertas=&plazas=&vendedor=&make_list%5B%5D=Audi&transmission_name=&agent_type_name=&has_financing=&reservable=&search3=Audi'"
   ]
  },
  {
   "cell_type": "code",
   "execution_count": 32,
   "metadata": {},
   "outputs": [
    {
     "name": "stdout",
     "output_type": "stream",
     "text": [
      "https://www.coches.com/api/vo/pills/?tipo_busqueda=2&seminuevo=0&ord%5B%5D=marca_up&searched3=&color=&combustible_id=&precio_desde=10000&precio_hasta=50000&scf_fee_desde=&scf_fee_hasta=&potencia_desde=&potencia_hasta=&km_desde=0&km_hasta=50000&anyo_desde=2015&anyo_hasta=2022&cambio=&puertas=&plazas=&vendedor=&make_list%5B%5D=A4&transmission_name=&agent_type_name=&has_financing=&reservable=&search3=Audi\n"
     ]
    }
   ],
   "source": [
    "import urllib.parse\n",
    "\n",
    "# Define los parámetros que deseas pasar a la\n",
    "precioMin = 10000\n",
    "precioMax = 50000\n",
    "kmMin = 0\n",
    "kmMax = 50000\n",
    "anyoMin = 2015\n",
    "anyoMax = 2022\n",
    "marca = 'Audi'\n",
    "modelo = 'A4'\n",
    "parametros = {\n",
    "    'tipo_busqueda': '2',\n",
    "    'seminuevo': '0',\n",
    "    'ord[]': 'marca_up',\n",
    "    'searched3': '',\n",
    "    'color': '',\n",
    "    'combustible_id': '',\n",
    "    'precio_desde': precioMin,  # Aquí puedes cambiar el rango de precio\n",
    "    'precio_hasta': precioMax,  # Aquí puedes cambiar el rango de precio\n",
    "    'scf_fee_desde': '',\n",
    "    'scf_fee_hasta': '',\n",
    "    'potencia_desde': '',\n",
    "    'potencia_hasta': '',\n",
    "    'km_desde': kmMin,          # Aquí puedes cambiar el rango de kilometraje\n",
    "    'km_hasta': kmMax,      # Aquí puedes cambiar el rango de kilometraje\n",
    "    'anyo_desde': anyoMin,     # Aquí puedes cambiar el rango de años\n",
    "    'anyo_hasta': anyoMax,     # Aquí puedes cambiar el rango de años\n",
    "    'cambio': '',\n",
    "    'puertas': '',\n",
    "    'plazas': '',\n",
    "    'vendedor': '',\n",
    "    'make_list[]': modelo,\n",
    "    'transmission_name': '',\n",
    "    'agent_type_name': '',\n",
    "    'has_financing': '',\n",
    "    'reservable': '',\n",
    "    'search3': marca\n",
    "}\n",
    "url_base = 'https://www.coches.com/api/vo/pills/?'\n",
    "url_completa = url_base + urllib.parse.urlencode(parametros)\n"
   ]
  },
  {
   "cell_type": "code",
   "execution_count": 39,
   "metadata": {},
   "outputs": [],
   "source": [
    "response = requests.get(url_completa)"
   ]
  },
  {
   "cell_type": "code",
   "execution_count": 38,
   "metadata": {},
   "outputs": [
    {
     "name": "stdout",
     "output_type": "stream",
     "text": [
      "b'\\x8b\\x06\\x1f\\x00d\\xdf\\xd4\\xd7\\xd3\\x15\\x8f\\x1dK\\xa2\\tp\\xc2Y\\xa3k\\xf8\\xf7TwP\"\\xf4\\xcbD\\x96\\xfc4\\x92\\xfd\\x7fs\\xa5M\\x19\\x94\\xaa\\xaaC\\xb0\\xadCK\\xb2\\xef\\xe5O\\xe0\\x080[\\x82\\xcc\\x04\\xe6\\x18U\\x01\\x1d \\xa9\\xbe:\\xd5*v(W\\xd9l\\n\\x08\\xea\\xce\\xed\\xd9\\n\\xe1*\\xec\\xf9c\\xbc\\x8b\\xd7^\\x8e\\x8f\\xe0\\xc0\\xac\\xee\\xce\\xe5\\xbd\\xba\\xd6q\\\\\\xd5\\xf1\\xaf\\xf7\\xaa\\x16uT1\\xe9a\\x0c\\xabF}{@\\xe8\\x9f\\xcb\\xa8\\xd7\\x92\\xf5x>\\x9c\\x0f\\xa9\\x84\\x14\\xd9q\\xdd\\x86\\\\\\xce\\x87\\xfb\\x0b\\xb6\\xab\\xdc\\xeeS\\xc9\\xed\\xc8\\x9f\\xa0\\xf3a\\xce\\x04\\x82\\xe7\\xa9\\x1d\\x16\\x11\\xddfl\\xa7\\x18\\x82\\xdcOkM\\xbb\\rkm\\xd7\\xf1,\\x8e\\x82Cl\\xcb<\\xd5\\xbe\\x95\\xa9\\xd5\\xb5(\\xfd\\xffv\\x11BYd\\xf8?\\x8d\\x0c\\xb1\\x91]\\xcf\\x82N5\\xaa> \\x8b\\x1bz4\\xfbz\\x96\\xfc\\xfbj\\xfe\\xf7|\\xd0>\\xe9z>\\xeck.\\xb7!_\\x88<\\x1f\\x8c_;x\\xb0\\x8b\\xf3\\x92.x\\x891\\xd1\\xd0\\x15\\xea\\x02\\xfa\\xc86:[\\xba\\x88\\x85\\xf6\\xc5I\\xbf\\xb8\\xde>\\xb8\\xde\\xeb{/\\xd1\\xb0\\x89\\xa4\\xfd\\xa2\\x1a\\xc5k\\xaf?\\xaf\\xbb\\xfd\\xa8\\xa3\\xfa.\\xf7\\x02\\x04y\\x0f\\xf0\\x0e\\xb4\\x98\\xdd\\xfc\\xbf\\x13i6\\x06\\xce;\\x99\\xdc\\xabF\\xed\\xec\\x04\\xb1a\\xcfQ\\x8f\\xf6R\\x1f\\x89\\x9a\\x8b\\x8cKG\\\\\\xf1r\\xc3\\xc2\\x0fN\\x011\\xd0\\x07\\xdc<?}\\x0f\\'\\xe8\\r\\'\\x909\\x01e\\xe5=]\\n<Bp\\x1e\\xa4\\x1a\\x95\\x07$\\xab\\xa3\\xfa6\\x0f\\xdc\\xf1\\x9c\\xf2\\xda\\xab\\x7f\\x95\\x9a\\x9eh\\x96\\x9e//\\x9b$2\\xda\\x98G\\x84\\x8f\\xfe\\x0f\\x9bz\\xf1\\x9a\\x9f\\x98`\\xd5\\xa8A,\\xe8\\xd5\\x9eD\\xf3\\xaay\\xdcB\\xd6\\x16\\xe7\\xea\\xd0B\\x8aT\\x81\\x16\\xb8\\x1f\\xa4\\x1a\\xa5\\xce\\x90\\x11\\x04\\xaa\\xa3\\x9a\\xcdW\\xd7\\xe7\\xf9\\xd5\\xbc\\xd4\\x04Fz\\r/\\nY\\xe5\\xb7\\xb4\\xf5$ZI\\x1b\\xb5\\xf6\\xc3sy(\\x99Qs\\\\Z~?\\xd5\\xad\\xe6\\xf1\\xa90\\xeb\\xfc\\xeb\\\\\\xd6\\x1c#F\\x1d\\x91\\xdcv\\xb8\\xc93\\xb1\\xf6\\xd1\\xe3\\xbc}\\x9dB\\x92&W\\x96O\\xe7\\xd7\\xd3o\\xf9\\xed\\xf0;Ou\\\\@&\\x1a$\\xcb\\xf7\\xfa\\x19E\\xe4}r\\xcdW\\xd7?d\\x95\\xe5\\x95\\xba\\x8b\\xd1\\xe4s\\xa5\\xf9~\\x92\\xdb<\\xde\\xc8\\x1b\\x1e\\t\\x19\\xc3E\\xdd\\xdd\\xef\\xff\\xb6H_g\\xc8\\xe3?\\t 6\\x97\\x19\\xb8\\xe2\\xd8lc\\xef\\x9e\\x0f\\xfb\\x9fJ\\xc8;\\x919\\xe5X\\x96\\'\\xfd*\\xdeg.\\xf8\\x9ak\\x9e\\xf6$7r/I\\xcfz?\\x9b\\x069Ul\\x06\\xc7\\xdb\\xf9\\xdb\\x98\\xdf\\xcd\\x80\\xb4AZ\\x99[\\xf3\\xe4\\xbe\\x01\\xa1\\xdf\\xe7-C\\x11\\x80\\xe4*[\\xe4\\x80\\x95fk}\\x0b\\x80\\xe8\\ny\\xec\\xbc.\\xa7\\x1a16\\x1c\\x15cv\\x93\\xdd\\xd4\\xeb\\x0cOe/\\xf3\\x02\\xcf\\xeb\\x8b\\x19 5\\xe4\\xb7\\xb9~\\xe6\\xc3\\x8dzw\\xbf\\x7f\\xa3\\x1f\\xe9g\\x1a\\x80\\x1b\\x9f\\x126O\\x9f=_\\x1a|\\xe9w\\xef\\x9f2\\xec\\xab\\x81\\xbc\\x9ewc\\xa4@\\x8d\\xed`0f\\xb8.\\xf5\"Kfh\\xf4u.\\xcb\\x8b\\xc2p\\x82o\\xceH\\\\`\\xac\\xb7\\x0b\\x90\\xe7x\\x01\\x99~9\\xafS=\\xb7\\x1flJ\\x91\\x11\\x8a\\xa7(1\\x82\\xc7\\x0c\\xb5N\\xf4$H\\xealK\\xdefx{\\xec)\\xfd\\xff)p\\xcd\\xb7\\xf3\\xe3.k\\xd8\\xa5\\xae_\\xc9\\xc6\\xaaO\\xe6K]\\xc3\\xbbA\\xe0\\xd1U\\x96m_2\\x80m\\x98\\xb3\\x9b\\x18\\x1b\\xd7x/\\x0en_\\xca\\x7f\\xf1\\x92\\xa3\\x12\\xfd\\xfd\\xb4\\xc9\\x10L\\xa7U\\\\\\x96\\xd0\\x94|\\x13\"$\\xbf\\xf0B\\xa7K\\xe6e)p3oy\\x9ct\\x97\\'L\\x8c\\xe2R7u\\xaa\\x87\\xd5)V\\xb97S\\x9f\\xd7\\xd5\\xdf\\x19\\x0fI#\\x9b\\x86\\x88\\x10\\xdb\\xe4GE\\xf6\\x92\\x8f\\xac`\\xeb\\xb5\\xf1Q\\x96\\'qG\\xef\\x0c\\x9a\\x9c\\xd3\\n\\n\\xf9R\\xd0\\xa9J^D\\x120^\\xa6\\xb2d\\x11\\x84&\\xc2z\\xb6\\x86ZJ\\x99\\x84\\xeb[\\xf9\\xe6D\\xceWF\\'\\xb0\\x95\\xe3\\x00\\x1a~\\x1dd\\xd92\\xbc\\x92\\xfd\\xe4\\xb1\\x96\\x0c\\xcd\\x0b\\xe4l\\xcf|>\\x18:\\x1f\\xc8i8Ur\\x16\\xf9v\\x82\\xa6Q\\xd5\\xad\\xbe\\x8bN\\xca\\xf3%O}B\\xc5\\xae\\x1a\\x9eK\\x95\\xec5\\xdc7\\r\\x9e\\xa4\\x96\\xdc\\xc0\\xba\\xbf\\x90-C\\x06K\\xcc\\x16\\xe1-\\xe4\\xeb2w\\x0e\\xbc\\xaes\\xc4!\\xc1f/\\x02\\xa7<m_\\xa9#\\x81\\'\\xf3\\xb4\\xee\\x13\\xc5\\x05!\\x95\\x06N\\xfa\\x91.v\\xa3\\xe6q\\xdc\\x1b4=n\\xf2\\xad\\xdf\\x13U\\x9c\\\\R\\xcd\\xe3\\xb3i\\xab\\xdb[u\\xc4\\xc7\\xa3\\xdf\\\\\\xebRaOUGe\\xb1B5\\x8b!\\xa7>6\\xf5Hv\\xf1;\\xa3\\x8b\\x88\\x10\\x99Z\\xdb\\x88P\\xd5\\x91\\x05M\\xa85\\x0eS\\xef\\xe2\\xd2\\xd2\\x03-\\x98xb\\xe30\\xb9@\\xec\\xe3\\xeb\\x0b\\x06\\x8f\\xb7m3\\n\\x15\\xc5\\xd7\\x1f\\x99\\xd4\\xf2\\x8bF\\xb5\\xd0P\\xd5@`F)Lp\\xfe9\\xea\\xfa\\x1e\\x8a\\xb7\\xc0]j\\x95>08\\xf4\\x8dZ\\xbe\\xc4\\x95\\xf8\\x04\\xb6\\x17\\x81\\xf6\\xb2G\\xe0 \\x02\\x07\\xf7\\x8c\\xfc<yL!\\x10\\x1a\\x11\\xaf\\xbc\\xd0C\\xa5\\x07\\xc7@\\x14DE\\xb6\\x8f\\x91\\t-y\\xeaL^h\\xbf*H\\xa9,\\x0e\\xb8FW:\\xa56`\\x8b\\xc8$\\x06/\\x98\\x864x/\\xde\\x9b!\\x8a\\x0f\\x9e%\\'\\x13dHi\\x10\\xb2\\x83X\\x8e\\xfaA\\x03\\xc5\\xa8\\x1d\\x93n\\\\\\xd4U\\xcf;\\x91w\\x87\\xcfH\\xd0\\xac\\xf0\\xbc;\\x95\\xf0c\\xbf\\x80fB\\xe5\\xba\\x08bLA\\xf11\\xbeS\\xc4\\x9b\\xe9\\x98VT0\\xde6\\xf5\\x0c\\xb3\\xb7?\\t\\xd9\\x11Er\\xc5\\x82\\x883V)\\x97G|\\xb8\\xb8\\xb6\\xbf\\x166\\x94\\xdd\\x8ccz\\xab\\xab\\xebS\\xcf}\\x10\\x96L\\xd9\\x86\\x9c\\x9d\\xc9\\xa5D&\\']\\xee\\x07.\\xc8\\x194\\xd6L\\'\\xce\\xe9\\xa0\\xe1\\xbe\\xa8\\x8bG\\xce\\xcc\\xaaR\\xad\\x15^\\xac\\xed0\\x8d]\\xd0>\\x11\\xaa\\x90\\x11@\\n\\x134\\x19\\xe3)=<\\xa1D\\r\\x8b<\\x07[|\\x0f1z&\\\\\\xbc\\xde\\x06a\\xb1\\xc8\\x94\\xc7*\\x9fb\\xb7\\x8cl+\\xc4\\x83P\\x84\\x17:*\\xb6\\x0b\\x9ap\\x9dC\\x85\\xfc2\\x14\\xc8[\\xef}\\xfe\\x17\\xcb\\xeb\\x06O\\xa4\\xc9\\x90\\x0el\\xa3Tf\\xf3a\\x18l?\\xaa\\x94\\xdc\\x1eO\\x86\\xdeg>\\xb6\\x9cy\\xf6q z2Sm\\xbd\\x11\\x12yBJI\\x06m4\\xa1\\x1b\\x15\\xcaR+\\x86N(\\xbd\\xa9\\xd7\\xd3}\\xd0\\\\;v[+M\\xc8\\x0c\\xbdtR\\x10\\x9d\\xa1\\x9c\\x9c\\xb8\\xc0C\\n\\x94$\\x1a?\\xff\\xdc\\x93N\\xba\\xaf\\x81\\x7f44\\xdeHz^\\x06L\\xfd0\\x94P\\xbc\\x05\\x16S\\xac\\x92\\xe3\\xda]3\\xd9\\xb8\\xa8\\x17\\xa5\\xd4\\xeb\\x02\\xa6XQ\\xb7\\x97+j\\xe6N\\x97\\x15\\x84hX\\xaf\\xa5\\xbf\\xc9r\\xc9\\x93(\\xac\\x0f\\\\\\xec\\x8f\\xc1S\\xbdlC\\xc8\\x81\\xfc\\xd5C\\x03\\xf4\\xccx!\\xb3\\xcdX\\xe0R\\xc3,\\x01I\\xfaz\\x99\\x802\\xdb89:`\\xfc\\xc7\\x86\\xf9\\xdd\\x9b\\x98\\xecRt\\xd4\\x04C\\xbbl\\xd2\\xecR\\xe3\\xc2b9\\x90\\xb5\\x8f\\x94\\xceXg\\xd6\\x81Q\\xe4u\\xdb\\xad`J\\xda\\xf9\\xa8\\x12\\xf8\\xd1\\x16\\xf0\\x9c!P\\x93C\\xc6\\'G&\\xdd*c\\xbe\\xad\\xf2\\x88q\\xc0g\\xa8\\x13\\x80\\xba\\xa1\\xa7=\\x91sn\\x13J\\x19#\\x19\\x17:h\\xc6\\x9d\\xf3o\\x1a\\x93\\xd7\\xd6;+\\xae\\n\\xc6\\x99\\t\\xa6\\xd0&m\\x1c\\xc3$\\xe0\\x18\\x9a\\x06\\xe3;=\\xbc\\xa1!\\xd1\\x9f\\x980\\xa1\\xfd\\xa7I!\\xe3CB]\\xe7\\x07\\x02`K.\\x12\\x06E[\\xf9\\xab&\\x8bV\\xcd\\xd5\\xf1\\xcc\\x0c\\xf7.\\xa7i\\xb8\\xb7\\xdb\\xff\\x81l\\x9c[L/\\x919\"\\xd3\\x82//\\xe6|X\\xe5R\\xdf\\xfc\\xae\\xc1TA\\xecE\\x14\\x02#\\x18r\\x0b=\\xf6\\xc3\\xb6f\\xc6X]1G\\xd3\\rq\\xb01I\\x10\\xd3\\x99b\\xc3\\x90\\x13\\xb9RH\"\\x12\\x8d5\\xd6\\x89:\\xbbL\\xc1\\xa4c\\x8c>V\\xf4~\\x8a1M\\\\\\xbf\\x97\\x17\\xb3\\xfd\\xf6\"L\\xbd\\xab\\xf6>r\\xe2hQq\\x85\\xc0\\x8c\\x08\\x86`{F\\xa6\\x0ch\\x9d8S2\\r\\x83c\\xdfK\\xa6\\x7fA\\t\\xc4D\\xdef\\x08\\xec2\\x01<o\\xb2\\xf4\\xfb\\x07rL|`\\x04<\\x16\\x81\\x18\\xc3\\xd8f\\x879\\x90\\x15\\x93\\xd9\\x0c\\x89\\x93\\x15\\xef\\x90zI^z\\xe9:\\x1b\\r\\x12?7\\x01\\xbc\\x7f\\xc2HO\\x04\\x91Q\\xab\\xc8\\xb0a\\xd1\\\\R2\\xf9\\xae\\x93\\xc0\\x05\\xd1{*\\xbd\\x1f\\xac\\x93\\xe8\\x13\\x86`}77\\t\\xbcO\"C\\xf6<\\x91\\xb1\\x1c\\xc3\\xb8\\x01\\xa6\\xf7\\xaf\\xef\\x16b\\xc88\\x1e\\x07^\\xb4\\'d\\xc2\\x91,Y\\xcf\\xdeu=:_\\n\\xe2n\\x84\\x83$*\\x89\\x937\\xc5\\xf6\\xa2_\\\\\\xc5\\x86\\x05]\\xd9\\x8f=\\x8f!P\\xc3;\\x1b\\xde\\xb5\\r\\xed\\xad\\x1bEd\\xa7\\'1\\xc7\\xdf\\x84X\\x00<\\x82\\x00\\xe3-=\\xf8F~\\xaf\\x81\\x8d\\xa1\\xe2\\x08\\x87\\x8cz\\xa9\\xc6\\x00\\x90\\x06\\x00@\\xaa\\xc6\\x06\\x1cr\\xc2\\xfaj\\x81&\\xc6\\xc1DN8j\\x97\\xf7\\xf3%\\x1e\\xa9t7.\\xaexN\\xa13\\xa8\\xaa\\xb3\\x01p\\xb6\\x01@.\\x9d\\xffV\\xb5\\x0c\\xad\\x91\\xbc\\x9b%\\x87t1v\\x87\\x87\\x11H\\xbc\\x1f\\xe1~J\\xff\\xb7\\xf6\\xfb\\xba\\x83G\\x12\\x87H\\xa4tM\\x1cB3I\\xd0\\xef\\xcc\\xec\"f\\t\\x9a\\xf5\\xd9A\\xd4\\x93\\xc9\\xe9dh4B\\xa4\\x96\\x17)uv\\xb1}\\xa84\\xf8*\\xf9\\x87\\x92\\xbe\\x8d\\xe1\\xfe\\xe1g\\xbaRV\\x80\\x9e\\xec\\x89\\xe1{\\xb6C\\x95V\\xe7\\xb6\\xceju\\xf9_B\\xad\\xa5\\x84\\x023\\x16\\xb2\\xa2\\xb3b\\x85,\\x80\\x19\\x17Gn\\xf5\\x08\\x0e\\x17\\n\\x10d@\\x83\\x84\\xd7\\x11\\x12\\xbc\\xf6gk\\xdew\\x00\\x89\\xa2\\x9a[(\\x94\\x14]\\x98\\xeee<>Ht\\xbd@($\\x13\\rj\\xde\\xed\\x83\\xc2\\x87\\xa24\\xb8\\x90#D\\x94[\\x00\\x99\\xa2\\xb0\\x86\\xef\\x19\\x0c\\x96x\\x8c9\\xe69\\xd6\\x94U\\x9fZ\\xe0\\xf3\\x87L\\xcf\\x99\\\\\\x89\\x01V\\xe0\\x8e\\x8dRC\\xbbt\\xdf\\x1a\\xe0\\x9eI\\x968-\\xd6\\r\\xc1Z\\xa2DR6\\xb9\\xa4\\x96\\xb5U\\x87\\xb9\\xea\\xa2\\x19rU.\\xaeun\\xf3\"\\x8d\\xdd\\xa8\\r\\xd1e\\xa3\\x11\\xa1\\xd6\\x8b\\n\\xc9@A\\xa2\\xbe,\\xce\\xba\\x13\\xab\\x8f!\\x89\\xae\\x87(\\xc0\\xbc&9\\x07\\x1d\\xb3\\r\\xd0\\x1bT\\xcb\\x97\\x9bJ\\x99\\x9e\\x99\\x9a\\x11YVm\\xbf\\xff\\xe0h\\t\\x0c!-\\xdc\\rZ^4\\xe7\\x08\\xe1\\xe1\\x12\\xc3G\\x89\\x08\\xe5$\\x90.\\n\\xf7@\\x14$\\xe59\\x91h\\xe15Y\\xad%/\\xc4\\x90<\\x119\\xa0\\xf1\\\\\\x03Zr6\\x94\\xc0\\x8d\\xaa\\x1bx\\x7f\\xb2\\xea\\xac>3\\xcfL\\x8c\\x94L {\\x81\\xe6\\xd9\\x17\\xd39y\\xb8[\\x82@b\\x84\\x87\\xad\\xd7T\\xfe:\\xe0!\\xf6\\xbc\\xbb;\\x80\\x11\\x12.\\x1dz\\xb6\\xd4&\\xc5\\x00\\xb0Ks\\xee\\xa4/\\x12D\\x99Z/7\\x89\\'\\xbe\\x96\\x10bK\\xce\\x08\\xe7\\x08\\xd1\\xee\\x80v\\x8bG6\\xb9\\xb8U]\\xadq\\xf6\\xb4\\x9a\\xaa)f]ja*\\xb5\\xf1\\x9c\\x81\\x8d\\xa68\\xf5\\xfa\\x12e\\x9d\\xee\\xec\\nR\\\\9\\x01\\xb7\\x9av|\\xe8\\xbc\\xb3.\\xda;\\xd6\\r\\x00\\x0e7\\xaf\\xaa\\x11W\\x97W\\xd2\\xe8Q\\x04T\\xfb\\xcd\\xb4L/\\xd1\\x9c\\xb9,a\\xca\\xd4\\xfb\\x8b\\x06@\\xed|\\xddw\\xb9\\xad\\xdc\\x96\\xcb\\xcb\\xf2(\\xe7I\\xa4\\xfeIY}\\xc1\\x9avC\\x94E\\xc5\\x12\\xb1\\x84\\xcf\\xff\\xfc\\x19~\\xba\\xbc\\xd9\\xca\\xf9~{|\\x16\\xb6@)\\xc4\\x86\\xe2\\x95La\\xfaf9\\xe3\\xb7\\xb5kK\\xc3|\\x10\\x0f_G\\x12\\xaf_l<U\\xda\\xdb\\xe8;S\\xa3\\xee\\xea\\x95\\xbb\\x8d\\xfa\\x16\\xf3{\\x91\\xea\\x0b\\'\\xaf\\xce915\\xbc\\x1e\\x01`\\xc8\\x0c\\xaf\\x9aI\"\\xd9s\\xab\\xc4\\x8f\\xbd\\x1cJt\\x84\\xfc8;\\xa4\\xe8\\xcf_\\x13Z\\x12\\x84\\xd8\\xbe6\\xe2\\xe8DV\\x8a^2\\xac\\xd6ke\\xc8\\xe1\\x92I\\x06\\xb2\\xc5F\\x1a\\\\\\x1f\\xbf\\xbfQ\\x06\\xc7\\xc7/+1\\x0f\\xe2\\xf2v\\xf2\\x08\\x9e\\xdd\\x19F\\x811\\xe7\\xaa\\xaeyQ=f$7z\\xcdx\\x8cs\\x849\\xd6\\x94U\\x9fZ\\xe0\\xb3\\xa3\\xd3\\xf8\\x7f\\xf7\\xcd\\x1f\\xcf_\\x0b;\\xa5\\x04\\xc0\\x93CX(\\x8fJ.8l\\x04\\xa3(\\xf8\\x1bs\\xd8rv\\'B\\x17\\xd8\\x1cr\\xd7K\\xb5\\x16\\x9a\\xaet\\x94\\x18\\x80D%\\x89\\xfd\\\\\\x88\\xfa\\xfb4D\\xeeu\\xc9L\\x81\\xbeBL\\x0eL\\x7f\\x0fO\\x0e\\xe4\\xa9r\\x8b\\xdb\\x04\\x8f\\xc9\\x03gO7\\n\\xe2l\\xad\\xb3\\xe9gf\\xa2\\xe7\\xd3\\xf1\\xf9aB\\xe7\\xc9\\xc1m\\x02\\x9c\\xd0!\\t(\\x80\\xb4z\\xba1\\t\\xea\\xb4j(\\xcb\\xfa\\xad\\xc4\\x12\\xabOdlU\\xd4\\xb6Qc]\\xd6Z\\xe1vP\\x02t\\xcc\\xf4BI\\xe4\\x00\\xf0\\x86\\x0cM\\xa9\\xd2\\xd7\\xa1\\xbf\\xba\\x99o\\\\\\xc7\\x0e\\xfa7\\xfd\\xbfmk\\xe7\\xfbUG\\x91\\xc4\\xbb]\\'\\xc2\\x86\\x10\\x11it\\xb7> \\x8dn\\xb1\\x16\\x1dh)X\\x91\\xc9.\\xdd\\xac\\xbc$\\x97\\xab\\xd8XS\\xc4N\\xd3\\xc4\\xc9W\\xbb\\x06\\x0fZ\\xcd\\xb6\\xc7\\xcb\\xcdY\\xb9lW\\xddCG\\x11S^\\x90\\xdd\\xb6lv\\xbco\\xe5\\xf2x\\x8f\\xdd\\xe7\\xb3\\x07\\x92\\x05\\xb0\\x11\\x18s0\\xe9d\\x9f\\x98\\xe6\\x90Q\\xe2`d\\xbc,n\\x1ea\\xd1\\x10\\x90\\x8b\\x8c1\\xf0\\xb3\\x0f)v\\x7fq\\xd2\\xdeE\\xedR\\x8d\\x16\\xad\\nUR9\\xac\\xdb\\x86\\xfd\\xf5\\x86\\xc5\\x8c\\xe9\\xc5\\xdd\\xed\\x1e\\xfe\\x89\\x19o\\x08\\xc9Jc\\xffp\\x07c\\x7fqht\\xdc\\xa8\\x10\\x00\\xaaA\\xf7\\xb9B\\x08\\xfb\\xba\\x8e7\\x9d\\xaaM\\xc7#\\x03\\x1c\\x11\\xf0\\x9e\\xbe\\xc5~Y\\xff\\xfb\\xfa\\xfe\\xbc\\\\.e\\xba\\xf9?h\\x12\\x89\\xb3\\x17=\\xc5\\xff\\x8az\\x1fw\\xac\\x11\\x0c\\xc2\\xbal\\xfa{\\xe5\\xbc\\xb2=\\x8c\\x0f]\\x982\\xe9dd\\xd8\\t\\xf1]\\xa7\\xd3\\xf3\\xc9!\\xffL9\\xb7X\\xcbU\\xb7\\x96\\xb0\\x1c\\xb5\\xdb\\xcb}\\x8b\\xc1\\x05#M1\\xbe>\\xfep#\\x03\\x93>|6\\x9e\\xb2\\x8e\\xf7\\xcb\\xf5\\x04iE\\xef\\xc6\\xd7\\xe5~\\xae\\xb3\\xe3\\x0f\\xe3&2\\x87rh\\xf6\\xe5\\xd0h\\x14(=\\x17[\\x93Xt\\x9d.\\x11\\x99\\xeb\\xbf\\x8erh\\xefq\\xec?P\\xe1\\x10\\xb5\\x967\\xd6\\xe4\\x10b\\x8e\\xe9\\xf6\\xf6\\xc9\\x14\\x1c\\xf1\\x99J\\x08\\x89;\\xa9\\xfa\\xe8\\x84\\x03\\xd2\\x1d\\x00D\\x81\\xf4\\x8cg\\x84\\xec\\x8c\\xe7\\x84\\xfc\\x8c\\x97\\x08\\xa53^&\\x94\\xbbG8\\xd5[66\\xd8+\\x8d\\xac\\xba!c\\xff!\\xc6(>\\x88\\xecy\\x00\\x90\\x12B\\xa2\\xf0\\x96\\xfes|\\xb89\\xae Q\\xdek\\xa6.\\xe3`\\xa5\\xf2#+.\\xf0\\x84\\xa7\\x9d}p\\x82\\x801\\x0c\\xb6\\x181bs\\xb6v\\xf9\\\\\\xee\\xa9\\x9f\\xf7\\xfa\\x10\\x8b\\x95\\x98\\x81\\xa9\\xdb\\x1e4\\x16\\x92\\xb2_\\x86>\\xf4\\xad|%\\x9a\\xd4\\x82N~\\xd5\\x952\\xba\\x93\\x085\\x93c_\\xf9\\xb7\\x1bk:\\x19\\x17\\xa4\\xa1\\x8c\\x04b\\xe0L\\x91tz\\xee\\xf3 \\xd1Z\\xab|[\\xae\\xcb\\xe7\\xeb\\xf8\\xb3QW9\\x04\\xc7\\x03\\xeb1\\x90\\x9d\\x0f4\\xb9\\x1a\\xfb?\\xab\\x7fy1\\x00\\x03'\n"
     ]
    }
   ],
   "source": [
    "if response.status_code == 200:\n",
    "    data = response.json()\n",
    "    print(data)\n"
   ]
  },
  {
   "cell_type": "code",
   "execution_count": null,
   "metadata": {},
   "outputs": [
    {
     "name": "stdout",
     "output_type": "stream",
     "text": [
      "dict_keys(['pills', 'subtitle', 'pager', 'count', 'bannerInfo', 'savedSearch', 'searchDataAttributes'])\n"
     ]
    }
   ],
   "source": [
    "print(data.keys())"
   ]
  },
  {
   "cell_type": "code",
   "execution_count": null,
   "metadata": {},
   "outputs": [
    {
     "name": "stdout",
     "output_type": "stream",
     "text": [
      "20\n"
     ]
    }
   ],
   "source": [
    "print(len(data['pills']))"
   ]
  },
  {
   "cell_type": "code",
   "execution_count": null,
   "metadata": {},
   "outputs": [],
   "source": [
    "#  dict to df\n",
    "df = pd.DataFrame(data['pills'])"
   ]
  },
  {
   "cell_type": "code",
   "execution_count": 41,
   "metadata": {},
   "outputs": [
    {
     "name": "stdout",
     "output_type": "stream",
     "text": [
      "<class 'pandas.core.frame.DataFrame'>\n",
      "RangeIndex: 20 entries, 0 to 19\n",
      "Data columns (total 32 columns):\n",
      " #   Column               Non-Null Count  Dtype  \n",
      "---  ------               --------------  -----  \n",
      " 0   id                   20 non-null     object \n",
      " 1   photoUrl             20 non-null     object \n",
      " 2   countImage           20 non-null     object \n",
      " 3   image                20 non-null     object \n",
      " 4   dateUpdate           20 non-null     object \n",
      " 5   price                20 non-null     object \n",
      " 6   url                  20 non-null     object \n",
      " 7   make                 20 non-null     object \n",
      " 8   model                20 non-null     object \n",
      " 9   version              20 non-null     object \n",
      " 10  versionName          20 non-null     object \n",
      " 11  fuel                 20 non-null     object \n",
      " 12  cv                   20 non-null     object \n",
      " 13  km                   20 non-null     object \n",
      " 14  provinceName         20 non-null     object \n",
      " 15  year                 20 non-null     object \n",
      " 16  alt                  20 non-null     object \n",
      " 17  bandInfo             20 non-null     object \n",
      " 18  isFavorite           20 non-null     bool   \n",
      " 19  basePrice            20 non-null     int64  \n",
      " 20  scfFee               4 non-null      float64\n",
      " 21  scfInitialFee        4 non-null      float64\n",
      " 22  scfFeesNumber        4 non-null      float64\n",
      " 23  scfTae               4 non-null      float64\n",
      " 24  scfTin               4 non-null      float64\n",
      " 25  scfDownPayment       4 non-null      float64\n",
      " 26  dealerId             20 non-null     object \n",
      " 27  isReservable         20 non-null     bool   \n",
      " 28  financeLegalText     20 non-null     object \n",
      " 29  pollutionTag         20 non-null     object \n",
      " 30  financialEntity      19 non-null     float64\n",
      " 31  financialExpiration  4 non-null      object \n",
      "dtypes: bool(2), float64(7), int64(1), object(22)\n",
      "memory usage: 4.9+ KB\n"
     ]
    }
   ],
   "source": [
    "\n",
    "df = df[['price', 'make', 'model', 'fuel', 'cv', 'km', 'year']]"
   ]
  }
 ],
 "metadata": {
  "kernelspec": {
   "display_name": ".venv",
   "language": "python",
   "name": "python3"
  },
  "language_info": {
   "codemirror_mode": {
    "name": "ipython",
    "version": 3
   },
   "file_extension": ".py",
   "mimetype": "text/x-python",
   "name": "python",
   "nbconvert_exporter": "python",
   "pygments_lexer": "ipython3",
   "version": "3.8.2"
  }
 },
 "nbformat": 4,
 "nbformat_minor": 2
}
