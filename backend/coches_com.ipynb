{
 "cells": [
  {
   "cell_type": "code",
   "execution_count": 1,
   "metadata": {},
   "outputs": [],
   "source": [
    "import json\n",
    "import requests\n",
    "import pandas as pd\n",
    "import numpy as np\n",
    "# from dicts.coches_com import car_id"
   ]
  },
  {
   "cell_type": "code",
   "execution_count": null,
   "metadata": {},
   "outputs": [],
   "source": [
    "ulr_trans = 'https://www.coches.com/api/vo/url-translator/?url=L2NvY2hlcy1zZWd1bmRhLW1hbm8vY29jaGVzLW9jYXNpb24uaHRt'\n",
    "# sacar marcas con title (marca y modelo), count y url\n",
    "url_marcas = 'https://www.coches.com/api/vo/pre-footer/?tipo_busqueda=3&seminuevo=0&ord%5B%5D=&searched3=&color=&combustible_id=&precio_desde=&precio_hasta=&scf_fee_desde=&scf_fee_hasta=&potencia_desde=&potencia_hasta=&km_desde=&km_hasta=&anyo_desde=&anyo_hasta=&cambio=&puertas=&plazas=&vendedor=&transmission_name=&agent_type_name=&has_financing=&reservable=&search3='"
   ]
  }
 ],
 "metadata": {
  "kernelspec": {
   "display_name": ".venv",
   "language": "python",
   "name": "python3"
  },
  "language_info": {
   "codemirror_mode": {
    "name": "ipython",
    "version": 3
   },
   "file_extension": ".py",
   "mimetype": "text/x-python",
   "name": "python",
   "nbconvert_exporter": "python",
   "pygments_lexer": "ipython3",
   "version": "3.8.2"
  }
 },
 "nbformat": 4,
 "nbformat_minor": 2
}
