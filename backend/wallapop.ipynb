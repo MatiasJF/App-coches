{
 "cells": [
  {
   "cell_type": "code",
   "execution_count": 22,
   "metadata": {},
   "outputs": [],
   "source": [
    "import requests\n",
    "import pandas as pd\n",
    "import urllib.parse\n",
    "import numpy as np\n",
    "import re"
   ]
  },
  {
   "cell_type": "code",
   "execution_count": 17,
   "metadata": {},
   "outputs": [],
   "source": [
    "make = 'audi'\n",
    "model = 'a3'\n",
    "yearMin = 2010\n",
    "yearMax = 2020\n",
    "kmMin = 0\n",
    "kmMax = 100000\n",
    "priceMin = 0\n",
    "priceMax = 10000\n",
    "\n",
    "'https://api.wallapop.com/api/v3/cars/search?filters_source=suggester&keywords=audi%20a4&category_ids=100&longitude=-3.69196&latitude=40.41956'\n",
    "url_base = 'https://api.wallapop.com/api/v3/cars/search?'\n",
    "parametros = {\n",
    "    'filters_source': 'suggester',\n",
    "    'keywords': make + ' ' + model,\n",
    "    'category_ids': 100,\n",
    "    'longitude': -3.69196,\n",
    "    'latitude': 40.41956,\n",
    "    'yearMin': yearMin,\n",
    "    'yearMax': yearMax,\n",
    "    'kmMin': kmMin,\n",
    "    'kmMax': kmMax,\n",
    "    'priceMin': priceMin,\n",
    "    'priceMax': priceMax\n",
    "}\n",
    "url_completa = url_base + urllib.parse.urlencode(parametros)\n",
    "response = requests.get(url_completa)\n",
    "if response.ok:\n",
    "    try:\n",
    "        data = response.json()\n",
    "        rows = []\n",
    "        for obj in data['search_objects']:\n",
    "            row = obj['content']\n",
    "            rows.append(row)\n",
    "\n",
    "        df = pd.DataFrame(rows)\n",
    "    except Exception as e:\n",
    "        print(\"Error:\", e)\n"
   ]
  },
  {
   "cell_type": "code",
   "execution_count": 21,
   "metadata": {},
   "outputs": [
    {
     "name": "stdout",
     "output_type": "stream",
     "text": [
      "<class 'pandas.core.frame.DataFrame'>\n",
      "Index: 10 entries, 0 to 20\n",
      "Data columns (total 7 columns):\n",
      " #   Column      Non-Null Count  Dtype  \n",
      "---  ------      --------------  -----  \n",
      " 0   title       10 non-null     object \n",
      " 1   price       10 non-null     float64\n",
      " 2   km          10 non-null     int64  \n",
      " 3   engine      10 non-null     object \n",
      " 4   gearbox     10 non-null     object \n",
      " 5   horsepower  10 non-null     float64\n",
      " 6   year        10 non-null     float64\n",
      "dtypes: float64(3), int64(1), object(3)\n",
      "memory usage: 640.0+ bytes\n"
     ]
    }
   ],
   "source": [
    "df = df[['title', 'price', 'km', 'engine', 'gearbox', 'horsepower']]\n",
    "\n",
    "def scrape_year(title):\n",
    "    # Using regular expression to get a 4-digit combination starting with 1 or 2\n",
    "    pattern = r'\\b(?:1|2)\\d{3}\\b'\n",
    "    match = re.search(pattern, title)\n",
    "    if match:\n",
    "        year = match.group(0)\n",
    "        return int(year)\n",
    "    else:\n",
    "        return None\n",
    "\n",
    "\n",
    "df['year'] = df['title'].apply(scrape_year)\n",
    "df = df.dropna()\n",
    "df['environmental_label'] = np.nan\n",
    "df.info()"
   ]
  }
 ],
 "metadata": {
  "kernelspec": {
   "display_name": ".venv",
   "language": "python",
   "name": "python3"
  },
  "language_info": {
   "codemirror_mode": {
    "name": "ipython",
    "version": 3
   },
   "file_extension": ".py",
   "mimetype": "text/x-python",
   "name": "python",
   "nbconvert_exporter": "python",
   "pygments_lexer": "ipython3",
   "version": "3.8.2"
  }
 },
 "nbformat": 4,
 "nbformat_minor": 2
}
