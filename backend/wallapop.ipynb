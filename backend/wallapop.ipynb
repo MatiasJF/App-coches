{
 "cells": [
  {
   "cell_type": "code",
   "execution_count": 22,
   "metadata": {},
   "outputs": [],
   "source": [
    "import requests\n",
    "import pandas as pd\n",
    "import urllib.parse\n",
    "import numpy as np\n",
    "import re"
   ]
  },
  {
   "cell_type": "code",
   "execution_count": 17,
   "metadata": {},
   "outputs": [],
   "source": [
    "make = 'audi'\n",
    "model = 'a3'\n",
    "yearMin = 2010\n",
    "yearMax = 2020\n",
    "kmMin = 0\n",
    "kmMax = 100000\n",
    "priceMin = 0\n",
    "priceMax = 10000\n",
    "\n",
    "'https://api.walla.com/api/v3/cars/search?filters_source=suggester&keywords=audi%20a4&category_ids=100&longitude=-3.69196&latitude=40.41956'\n",
    "url_base = 'https://api.wallapop.com/api/v3/cars/search?'\n",
    "\n",
    "parametros = {\n",
    "    'filters_source': 'suggester',\n",
    "    'keywords': make + ' ' + model,\n",
    "    'category_ids': 100,\n",
    "    'longitude': -3.69196,\n",
    "    'latitude': 40.41956,\n",
    "    'yearMin': yearMin,\n",
    "    'yearMax': yearMax,\n",
    "    'kmMin': kmMin,\n",
    "    'kmMax': kmMax,\n",
    "    'priceMin': priceMin,\n",
    "    'priceMax': priceMax\n",
    "}\n",
    "url_completa = url_base + urllib.parse.urlencode(parametros)\n",
    "response = requests.get(url_completa)\n",
    "if response.ok:\n",
    "    try:\n",
    "        data = response.json()\n",
    "        rows = []\n",
    "        for obj in data['search_objects']:\n",
    "            row = obj['content']\n",
    "            rows.append(row)\n",
    "\n",
    "        df = pd.DataFrame(rows)\n",
    "    except Exception as e:\n",
    "        print(\"Error:\", e)\n"
   ]
  },
  {
   "cell_type": "code",
   "execution_count": 21,
   "metadata": {},
   "outputs": [
    {
     "name": "stdout",
     "output_type": "stream",
     "text": [
      "<class 'pandas.core.frame.DataFrame'>\n",
      "Index: 10 entries, 0 to 20\n",
      "Data columns (total 7 columns):\n",
      " #   Column      Non-Null Count  Dtype  \n",
      "---  ------      --------------  -----  \n",
      " 0   title       10 non-null     object \n",
      " 1   price       10 non-null     float64\n",
      " 2   km          10 non-null     int64  \n",
      " 3   engine      10 non-null     object \n",
      " 4   gearbox     10 non-null     object \n",
      " 5   horsepower  10 non-null     float64\n",
      " 6   year        10 non-null     float64\n",
      "dtypes: float64(3), int64(1), object(3)\n",
      "memory usage: 640.0+ bytes\n"
     ]
    }
   ],
   "source": [
    "df = df[['title', 'price', 'km', 'engine', 'gearbox', 'horsepower']]\n",
    "\n",
    "def scrape_year(title):\n",
    "    # Using regular expression to get a 4-digit combination starting with 1 or 2\n",
    "    pattern = r'\\b(?:1|2)\\d{3}\\b'\n",
    "    match = re.search(pattern, title)\n",
    "    if match:\n",
    "        year = match.group(0)\n",
    "        return int(year)\n",
    "    else:\n",
    "        return None\n",
    "\n",
    "\n",
    "df['year'] = df['title'].apply(scrape_year)\n",
    "df = df.dropna()\n",
    "df['environmental_label'] = np.nan\n",
    "df.info()"
   ]
  },
  {
   "cell_type": "code",
   "execution_count": 6,
   "metadata": {},
   "outputs": [],
   "source": [
    "import urllib.parse\n",
    "import requests\n",
    "import pandas as pd\n",
    "import numpy as np"
   ]
  },
  {
   "cell_type": "code",
   "execution_count": 7,
   "metadata": {},
   "outputs": [
    {
     "name": "stdout",
     "output_type": "stream",
     "text": [
      "<Response [200]>\n",
      "Index(['id', 'title', 'storytelling', 'distance', 'images', 'user', 'flags',\n",
      "       'visibility_flags', 'price', 'currency', 'web_slug', 'category_id',\n",
      "       'brand', 'model', 'year', 'version', 'km', 'engine', 'gearbox',\n",
      "       'favorited', 'creation_date', 'modification_date', 'location',\n",
      "       'shipping', 'supports_shipping', 'horsepower'],\n",
      "      dtype='object')\n"
     ]
    }
   ],
   "source": [
    "make = 'audi'\n",
    "model = 'a3'\n",
    "yearMin = 2010\n",
    "yearMax = 2020\n",
    "kmMin = 0\n",
    "kmMax = 100000\n",
    "priceMin = 0\n",
    "priceMax = 100000\n",
    "\n",
    "parametros = {\n",
    "    'filters_source': 'suggester',\n",
    "    'keywords': make + ' ' + model,\n",
    "    'category_ids': 100,\n",
    "    'longitude': -3.69196,\n",
    "    'latitude': 40.41956,\n",
    "    'yearMin': yearMin,\n",
    "    'yearMax': yearMax,\n",
    "    'kmMin': kmMin,\n",
    "    'kmMax': kmMax,\n",
    "    'priceMin': priceMin,\n",
    "    'priceMax': priceMax\n",
    "}\n",
    "\n",
    "url_base = 'https://api.wallapop.com/api/v3/cars/search?'\n",
    "url_completa = url_base + urllib.parse.urlencode(parametros)\n",
    "response = requests.get(url_completa)\n",
    "print(response)\n",
    "df_walla = pd.DataFrame()\n",
    "if response.ok:\n",
    "    try:\n",
    "        data = response.json()\n",
    "        rows = []\n",
    "        for obj in data['search_objects']:\n",
    "            row = obj['content']\n",
    "            rows.append(row)\n",
    "        df_walla = pd.DataFrame(rows)\n",
    "    except Exception as e:\n",
    "        print(\"Error:\", e)\n",
    "print(df.columns)"
   ]
  },
  {
   "cell_type": "code",
   "execution_count": null,
   "metadata": {},
   "outputs": [],
   "source": []
  },
  {
   "cell_type": "code",
   "execution_count": 9,
   "metadata": {},
   "outputs": [
    {
     "name": "stdout",
     "output_type": "stream",
     "text": [
      "Index(['id', 'photoUrl', 'countImage', 'image', 'dateUpdate', 'price', 'url',\n",
      "       'make', 'model', 'version', 'versionName', 'fuel', 'cv', 'km',\n",
      "       'provinceName', 'year', 'alt', 'bandInfo', 'isFavorite', 'basePrice',\n",
      "       'scfFee', 'scfInitialFee', 'scfFeesNumber', 'scfTae', 'scfTin',\n",
      "       'scfDownPayment', 'dealerId', 'isReservable', 'financeLegalText',\n",
      "       'pollutionTag', 'financialEntity', 'financialExpiration'],\n",
      "      dtype='object')\n"
     ]
    }
   ],
   "source": [
    "parametros = {\n",
    "        'tipo_busqueda': '2',\n",
    "        'seminuevo': '0',\n",
    "        'ord[]': 'marca_up',\n",
    "        'searched3': '',\n",
    "        'color': '',\n",
    "        'combustible_id': '',\n",
    "        'precio_desde': priceMin,\n",
    "        'precio_hasta': priceMax,\n",
    "        'scf_fee_desde': '',\n",
    "        'scf_fee_hasta': '',\n",
    "        'potencia_desde': '',\n",
    "        'potencia_hasta': '',\n",
    "        'km_desde': kmMin,\n",
    "        'km_hasta': kmMax,\n",
    "        'anyo_desde': yearMin,\n",
    "        'anyo_hasta': yearMax,\n",
    "        'cambio': '',\n",
    "        'puertas': '',\n",
    "        'plazas': '',\n",
    "        'vendedor': '',\n",
    "        'make_list[]': '',\n",
    "        'transmission_name': '',\n",
    "        'agent_type_name': '',\n",
    "        'has_financing': '',\n",
    "        'reservable': '',\n",
    "        'search3': model,\n",
    "    }\n",
    "url_base = 'https://www.coches.com/api/vo/pills/?'\n",
    "url_completa = url_base + urllib.parse.urlencode(parametros)\n",
    "response = requests.get(url_completa)\n",
    "if response.ok:\n",
    "    try:\n",
    "        data = response.json()\n",
    "        df_com = pd.DataFrame(data['pills'])\n",
    "    except:\n",
    "        print(\"Error:\", e)\n",
    "    print(df.columns)"
   ]
  },
  {
   "cell_type": "code",
   "execution_count": 10,
   "metadata": {},
   "outputs": [
    {
     "ename": "NameError",
     "evalue": "name 'df_wallapop' is not defined",
     "output_type": "error",
     "traceback": [
      "\u001b[1;31m---------------------------------------------------------------------------\u001b[0m",
      "\u001b[1;31mNameError\u001b[0m                                 Traceback (most recent call last)",
      "Cell \u001b[1;32mIn[10], line 13\u001b[0m\n\u001b[0;32m      4\u001b[0m rename_columns \u001b[38;5;241m=\u001b[39m {\n\u001b[0;32m      5\u001b[0m     \u001b[38;5;124m'\u001b[39m\u001b[38;5;124mengine\u001b[39m\u001b[38;5;124m'\u001b[39m: \u001b[38;5;124m'\u001b[39m\u001b[38;5;124mfuelType\u001b[39m\u001b[38;5;124m'\u001b[39m,\n\u001b[0;32m      6\u001b[0m     \u001b[38;5;124m'\u001b[39m\u001b[38;5;124mhorsepower\u001b[39m\u001b[38;5;124m'\u001b[39m: \u001b[38;5;124m'\u001b[39m\u001b[38;5;124mcv\u001b[39m\u001b[38;5;124m'\u001b[39m,\n\u001b[1;32m   (...)\u001b[0m\n\u001b[0;32m      9\u001b[0m     \u001b[38;5;124m'\u001b[39m\u001b[38;5;124murl\u001b[39m\u001b[38;5;124m'\u001b[39m: \u001b[38;5;124m'\u001b[39m\u001b[38;5;124mlink\u001b[39m\u001b[38;5;124m'\u001b[39m\n\u001b[0;32m     10\u001b[0m }\n\u001b[0;32m     11\u001b[0m delete_columns \u001b[38;5;241m=\u001b[39m [\u001b[38;5;124m'\u001b[39m\u001b[38;5;124mtitle\u001b[39m\u001b[38;5;124m'\u001b[39m]\n\u001b[1;32m---> 13\u001b[0m \u001b[43mdf_wallapop\u001b[49m\u001b[38;5;241m.\u001b[39mrename(columns\u001b[38;5;241m=\u001b[39mrename_columns, inplace\u001b[38;5;241m=\u001b[39m\u001b[38;5;28;01mTrue\u001b[39;00m)\n\u001b[0;32m     15\u001b[0m df_wallapop\u001b[38;5;241m.\u001b[39mdrop(columns\u001b[38;5;241m=\u001b[39mdelete_columns, inplace\u001b[38;5;241m=\u001b[39m\u001b[38;5;28;01mTrue\u001b[39;00m, errors\u001b[38;5;241m=\u001b[39m\u001b[38;5;124m'\u001b[39m\u001b[38;5;124mignore\u001b[39m\u001b[38;5;124m'\u001b[39m)\n\u001b[0;32m     17\u001b[0m df_coches\u001b[38;5;241m.\u001b[39mrename(columns\u001b[38;5;241m=\u001b[39mrename_columns, inplace\u001b[38;5;241m=\u001b[39m\u001b[38;5;28;01mTrue\u001b[39;00m)\n",
      "\u001b[1;31mNameError\u001b[0m: name 'df_wallapop' is not defined"
     ]
    }
   ],
   "source": [
    "same_columns_wallapop = ['id', 'title', 'images', 'price', 'brand', 'model', 'year', 'km', 'engine', 'horsepower']\n",
    "same_columns_coches_com = ['id','image', 'price', 'url' , 'make', 'model' , 'fuel', 'cv', 'km', 'year']\n",
    "comon_names = ['id','images','price','make','model','year','km','fuelType','horsepower','cv','url']\n",
    "rename_columns = {\n",
    "    'engine': 'fuelType',\n",
    "    'horsepower': 'cv',\n",
    "    'brand' : 'make',\n",
    "    'images': 'image',\n",
    "    'url': 'link'\n",
    "}\n",
    "delete_columns = ['title']\n",
    "\n",
    "df_walla.rename(columns=rename_columns, inplace=True)\n",
    "\n",
    "df_walla.drop(columns=delete_columns, inplace=True, errors='ignore')\n",
    "\n",
    "df_com.rename(columns=rename_columns, inplace=True)\n",
    "\n",
    "df_coches.drop(columns=delete_columns, inplace=True, errors='ignore')\n",
    "\n",
    "df_walla = df_walla[[col for col in common_names if col in df_walla.columns]]\n",
    "df_com = df_com[[col for col in common_names if col in df_com.columns]]\n",
    "\n",
    "df_walla['site'] = 'walla'\n",
    "\n",
    "df_com['site'] = 'com'\n"
   ]
  }
 ],
 "metadata": {
  "kernelspec": {
   "display_name": ".venv",
   "language": "python",
   "name": "python3"
  },
  "language_info": {
   "codemirror_mode": {
    "name": "ipython",
    "version": 3
   },
   "file_extension": ".py",
   "mimetype": "text/x-python",
   "name": "python",
   "nbconvert_exporter": "python",
   "pygments_lexer": "ipython3",
   "version": "3.8.2"
  }
 },
 "nbformat": 4,
 "nbformat_minor": 2
}
