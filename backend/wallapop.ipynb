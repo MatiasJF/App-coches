{
 "cells": [
  {
   "cell_type": "code",
   "execution_count": 2,
   "metadata": {},
   "outputs": [
    {
     "name": "stderr",
     "output_type": "stream",
     "text": [
      "/Users/matiasjackson/Documents/Proyectos/app-coches/.venv/lib/python3.9/site-packages/urllib3/__init__.py:35: NotOpenSSLWarning: urllib3 v2 only supports OpenSSL 1.1.1+, currently the 'ssl' module is compiled with 'LibreSSL 2.8.3'. See: https://github.com/urllib3/urllib3/issues/3020\n",
      "  warnings.warn(\n"
     ]
    }
   ],
   "source": [
    "import urllib.parse\n",
    "import requests\n",
    "import pandas as pd\n",
    "import numpy as np"
   ]
  },
  {
   "cell_type": "code",
   "execution_count": 3,
   "metadata": {},
   "outputs": [],
   "source": [
    "def get_data_wallapop(make: str, model: str, yearMin: int, yearMax: int, kmMin: int, kmMax: int, priceMin: int, priceMax: int):\n",
    "    parametros = {\n",
    "        'min_year': yearMin,\n",
    "        'max_year': yearMax,\n",
    "        'min_km': kmMin,\n",
    "        'max_km': kmMax,\n",
    "        'min_sale_price': priceMin,\n",
    "        'max_sale_price': priceMax,\n",
    "        'filters_source': 'quick_filters',\n",
    "        'keywords': make + ' ' + model,\n",
    "        'category_ids': '100',\n",
    "        'longitude': '-3.69196',\n",
    "        'latitude': '40.41956'\n",
    "    }\n",
    "    url_base = 'https://api.wallapop.com/api/v3/cars/search?'\n",
    "    url_completa = url_base + urllib.parse.urlencode(parametros)\n",
    "    response = requests.get(url_completa)\n",
    "    df_walla = pd.DataFrame()\n",
    "    if response.ok:\n",
    "        try:\n",
    "            data = response.json()\n",
    "            rows = []\n",
    "            for obj in data['search_objects']:\n",
    "                row = obj['content']\n",
    "                rows.append(row)\n",
    "            df_walla = pd.DataFrame(rows)\n",
    "        except Exception as e:\n",
    "            print(\"Error:\", e)\n",
    "    return df_walla"
   ]
  },
  {
   "cell_type": "code",
   "execution_count": 8,
   "metadata": {},
   "outputs": [
    {
     "data": {
      "text/plain": [
       "array([2019, 2020])"
      ]
     },
     "execution_count": 8,
     "metadata": {},
     "output_type": "execute_result"
    }
   ],
   "source": [
    "df = get_data_wallapop('Audi', 'A3', 2019, 2020, 0, 100000, 0, 20000)\n",
    "df = df[['id', 'images', 'price', 'web_slug', 'brand', 'model', 'year', 'km', 'engine', 'gearbox', 'horsepower']]\n",
    "df['year'].unique()"
   ]
  }
 ],
 "metadata": {
  "kernelspec": {
   "display_name": ".venv",
   "language": "python",
   "name": "python3"
  },
  "language_info": {
   "codemirror_mode": {
    "name": "ipython",
    "version": 3
   },
   "file_extension": ".py",
   "mimetype": "text/x-python",
   "name": "python",
   "nbconvert_exporter": "python",
   "pygments_lexer": "ipython3",
   "version": "3.9.6"
  }
 },
 "nbformat": 4,
 "nbformat_minor": 2
}
