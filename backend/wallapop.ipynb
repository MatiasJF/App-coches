{
 "cells": [
  {
   "cell_type": "code",
   "execution_count": 62,
   "metadata": {},
   "outputs": [],
   "source": [
    "import requests\n",
    "import pandas as pd\n",
    "import urllib.parse\n",
    "import numpy as np\n",
    "import re"
   ]
  },
  {
   "cell_type": "code",
   "execution_count": 63,
   "metadata": {},
   "outputs": [],
   "source": [
    "make = 'audi'\n",
    "model = 'a3'\n",
    "yearMin = 2010\n",
    "yearMax = 2020\n",
    "kmMin = 0\n",
    "kmMax = 100000\n",
    "priceMin = 0\n",
    "priceMax = 10000\n",
    "\n",
    "'https://api.walla.com/api/v3/cars/search?filters_source=suggester&keywords=audi%20a4&category_ids=100&longitude=-3.69196&latitude=40.41956'\n",
    "url_base = 'https://api.wallapop.com/api/v3/cars/search?'\n",
    "\n",
    "parametros = {\n",
    "    'filters_source': 'suggester',\n",
    "    'keywords': make + ' ' + model,\n",
    "    'category_ids': 100,\n",
    "    'longitude': -3.69196,\n",
    "    'latitude': 40.41956,\n",
    "    'yearMin': yearMin,\n",
    "    'yearMax': yearMax,\n",
    "    'kmMin': kmMin,\n",
    "    'kmMax': kmMax,\n",
    "    'priceMin': priceMin,\n",
    "    'priceMax': priceMax\n",
    "}\n",
    "url_completa = url_base + urllib.parse.urlencode(parametros)\n",
    "response = requests.get(url_completa)\n",
    "if response.ok:\n",
    "    try:\n",
    "        data = response.json()\n",
    "        rows = []\n",
    "        for obj in data['search_objects']:\n",
    "            row = obj['content']\n",
    "            rows.append(row)\n",
    "\n",
    "        df = pd.DataFrame(rows)\n",
    "    except Exception as e:\n",
    "        print(\"Error:\", e)\n"
   ]
  },
  {
   "cell_type": "code",
   "execution_count": 64,
   "metadata": {},
   "outputs": [
    {
     "name": "stdout",
     "output_type": "stream",
     "text": [
      "<class 'pandas.core.frame.DataFrame'>\n",
      "Index: 16 entries, 3 to 39\n",
      "Data columns (total 8 columns):\n",
      " #   Column               Non-Null Count  Dtype  \n",
      "---  ------               --------------  -----  \n",
      " 0   title                16 non-null     object \n",
      " 1   price                16 non-null     float64\n",
      " 2   km                   16 non-null     float64\n",
      " 3   engine               16 non-null     object \n",
      " 4   gearbox              16 non-null     object \n",
      " 5   horsepower           16 non-null     float64\n",
      " 6   year                 16 non-null     float64\n",
      " 7   environmental_label  0 non-null      float64\n",
      "dtypes: float64(5), object(3)\n",
      "memory usage: 1.1+ KB\n"
     ]
    }
   ],
   "source": [
    "df = df[['title', 'price', 'km', 'engine', 'gearbox', 'horsepower']]\n",
    "\n",
    "def scrape_year(title):\n",
    "    # Using regular expression to get a 4-digit combination starting with 1 or 2\n",
    "    pattern = r'\\b(?:1|2)\\d{3}\\b'\n",
    "    match = re.search(pattern, title)\n",
    "    if match:\n",
    "        year = match.group(0)\n",
    "        return int(year)\n",
    "    else:\n",
    "        return None\n",
    "\n",
    "\n",
    "df['year'] = df['title'].apply(scrape_year)\n",
    "df = df.dropna()\n",
    "df['environmental_label'] = np.nan\n",
    "df.info()"
   ]
  },
  {
   "cell_type": "code",
   "execution_count": 65,
   "metadata": {},
   "outputs": [],
   "source": [
    "import urllib.parse\n",
    "import requests\n",
    "import pandas as pd\n",
    "import numpy as np"
   ]
  },
  {
   "cell_type": "code",
   "execution_count": 66,
   "metadata": {},
   "outputs": [
    {
     "name": "stdout",
     "output_type": "stream",
     "text": [
      "<Response [200]>\n",
      "Index(['title', 'price', 'km', 'engine', 'gearbox', 'horsepower', 'year',\n",
      "       'environmental_label'],\n",
      "      dtype='object')\n"
     ]
    }
   ],
   "source": [
    "make = 'audi'\n",
    "model = 'a3'\n",
    "yearMin = 2010\n",
    "yearMax = 2020\n",
    "kmMin = 0\n",
    "kmMax = 100000\n",
    "priceMin = 0\n",
    "priceMax = 100000\n",
    "\n",
    "parametros = {\n",
    "    'filters_source': 'suggester',\n",
    "    'keywords': make + ' ' + model,\n",
    "    'category_ids': 100,\n",
    "    'longitude': -3.69196,\n",
    "    'latitude': 40.41956,\n",
    "    'yearMin': yearMin,\n",
    "    'yearMax': yearMax,\n",
    "    'kmMin': kmMin,\n",
    "    'kmMax': kmMax,\n",
    "    'priceMin': priceMin,\n",
    "    'priceMax': priceMax\n",
    "}\n",
    "\n",
    "url_base = 'https://api.wallapop.com/api/v3/cars/search?'\n",
    "url_completa = url_base + urllib.parse.urlencode(parametros)\n",
    "response = requests.get(url_completa)\n",
    "print(response)\n",
    "df_walla = pd.DataFrame()\n",
    "if response.ok:\n",
    "    try:\n",
    "        data = response.json()\n",
    "        rows = []\n",
    "        for obj in data['search_objects']:\n",
    "            row = obj['content']\n",
    "            rows.append(row)\n",
    "        df_walla = pd.DataFrame(rows)\n",
    "    except Exception as e:\n",
    "        print(\"Error:\", e)\n",
    "print(df.columns)"
   ]
  },
  {
   "cell_type": "code",
   "execution_count": null,
   "metadata": {},
   "outputs": [],
   "source": []
  },
  {
   "cell_type": "code",
   "execution_count": 67,
   "metadata": {},
   "outputs": [
    {
     "name": "stdout",
     "output_type": "stream",
     "text": [
      "Index(['title', 'price', 'km', 'engine', 'gearbox', 'horsepower', 'year',\n",
      "       'environmental_label'],\n",
      "      dtype='object')\n",
      "16\n"
     ]
    }
   ],
   "source": [
    "parametros = {\n",
    "        'tipo_busqueda': '2',\n",
    "        'seminuevo': '0',\n",
    "        'ord[]': 'marca_up',\n",
    "        'searched3': '',\n",
    "        'color': '',\n",
    "        'combustible_id': '',\n",
    "        'precio_desde': priceMin,\n",
    "        'precio_hasta': priceMax,\n",
    "        'scf_fee_desde': '',\n",
    "        'scf_fee_hasta': '',\n",
    "        'potencia_desde': '',\n",
    "        'potencia_hasta': '',\n",
    "        'km_desde': kmMin,\n",
    "        'km_hasta': kmMax,\n",
    "        'anyo_desde': yearMin,\n",
    "        'anyo_hasta': yearMax,\n",
    "        'cambio': '',\n",
    "        'puertas': '',\n",
    "        'plazas': '',\n",
    "        'vendedor': '',\n",
    "        'make_list[]': '',\n",
    "        'transmission_name': '',\n",
    "        'agent_type_name': '',\n",
    "        'has_financing': '',\n",
    "        'reservable': '',\n",
    "        'search3': make + ' ' + model,\n",
    "    }\n",
    "url_base = 'https://www.coches.com/api/vo/pills/?'\n",
    "url_completa = url_base + urllib.parse.urlencode(parametros)\n",
    "response = requests.get(url_completa)\n",
    "if response.ok:\n",
    "    try:\n",
    "        data = response.json()\n",
    "        df_com = pd.DataFrame(data['pills'])\n",
    "    except:\n",
    "        print(\"Error:\", e)\n",
    "    print(df.columns)\n",
    "    print(len(df))"
   ]
  },
  {
   "cell_type": "code",
   "execution_count": 69,
   "metadata": {},
   "outputs": [],
   "source": [
    "same_columns_wallapop = ['id', 'title', 'images', 'price', 'brand', 'model', 'year', 'km', 'engine', 'horsepower']\n",
    "same_columns_coches_com = ['id','image', 'price', 'url' , 'make', 'model' , 'fuel', 'cv', 'km', 'year']\n",
    "comon_names = ['id','image','price','make','model','year','km','fuelType','horsepower','cv','url']\n",
    "rename_columns = {\n",
    "    'engine': 'fuelType',\n",
    "    'fuel' : 'fuelType',\n",
    "    'horsepower': 'cv',\n",
    "    'brand' : 'make',\n",
    "    'images': 'image',\n",
    "    'url': 'link'\n",
    "}\n",
    "delete_columns = ['title']\n",
    "df_walla['images'] = df_walla['images'].apply(lambda x: x[0]['original'] if isinstance(x, list) and len(x) > 0 else None)\n",
    "df_walla.rename(columns=rename_columns, inplace=True)\n",
    "\n",
    "df_walla.drop(columns=delete_columns, inplace=True, errors='ignore')\n",
    "\n",
    "df_com.rename(columns=rename_columns, inplace=True)\n",
    "\n",
    "df_com.drop(columns=delete_columns, inplace=True, errors='ignore')\n",
    "\n",
    "df_walla = df_walla[[col for col in comon_names if col in df_walla.columns]]\n",
    "df_com = df_com[[col for col in comon_names if col in df_com.columns]]\n",
    "\n",
    "df_walla['site'] = 'walla'\n",
    "\n",
    "df_com['site'] = 'com'\n"
   ]
  },
  {
   "cell_type": "code",
   "execution_count": 72,
   "metadata": {},
   "outputs": [
    {
     "name": "stdout",
     "output_type": "stream",
     "text": [
      "40\n"
     ]
    },
    {
     "data": {
      "text/html": [
       "<div>\n",
       "<style scoped>\n",
       "    .dataframe tbody tr th:only-of-type {\n",
       "        vertical-align: middle;\n",
       "    }\n",
       "\n",
       "    .dataframe tbody tr th {\n",
       "        vertical-align: top;\n",
       "    }\n",
       "\n",
       "    .dataframe thead th {\n",
       "        text-align: right;\n",
       "    }\n",
       "</style>\n",
       "<table border=\"1\" class=\"dataframe\">\n",
       "  <thead>\n",
       "    <tr style=\"text-align: right;\">\n",
       "      <th></th>\n",
       "      <th>id</th>\n",
       "      <th>image</th>\n",
       "      <th>price</th>\n",
       "      <th>make</th>\n",
       "      <th>model</th>\n",
       "      <th>year</th>\n",
       "      <th>km</th>\n",
       "      <th>fuelType</th>\n",
       "      <th>cv</th>\n",
       "      <th>site</th>\n",
       "    </tr>\n",
       "  </thead>\n",
       "  <tbody>\n",
       "    <tr>\n",
       "      <th>0</th>\n",
       "      <td>3zl88w3m546x</td>\n",
       "      <td>https://cdn.wallapop.com/images/10420/gj/wi/__...</td>\n",
       "      <td>5500.0</td>\n",
       "      <td>Audi</td>\n",
       "      <td>A3 2.0 FSI</td>\n",
       "      <td>2004</td>\n",
       "      <td>218000.0</td>\n",
       "      <td>Gasoline</td>\n",
       "      <td>NaN</td>\n",
       "      <td>walla</td>\n",
       "    </tr>\n",
       "  </tbody>\n",
       "</table>\n",
       "</div>"
      ],
      "text/plain": [
       "             id                                              image   price  \\\n",
       "0  3zl88w3m546x  https://cdn.wallapop.com/images/10420/gj/wi/__...  5500.0   \n",
       "\n",
       "   make       model  year        km  fuelType  cv   site  \n",
       "0  Audi  A3 2.0 FSI  2004  218000.0  Gasoline NaN  walla  "
      ]
     },
     "execution_count": 72,
     "metadata": {},
     "output_type": "execute_result"
    }
   ],
   "source": [
    "print(len(df_walla))\n",
    "df_walla.head(1)"
   ]
  },
  {
   "cell_type": "code",
   "execution_count": 73,
   "metadata": {},
   "outputs": [
    {
     "name": "stdout",
     "output_type": "stream",
     "text": [
      "20\n"
     ]
    },
    {
     "data": {
      "text/html": [
       "<div>\n",
       "<style scoped>\n",
       "    .dataframe tbody tr th:only-of-type {\n",
       "        vertical-align: middle;\n",
       "    }\n",
       "\n",
       "    .dataframe tbody tr th {\n",
       "        vertical-align: top;\n",
       "    }\n",
       "\n",
       "    .dataframe thead th {\n",
       "        text-align: right;\n",
       "    }\n",
       "</style>\n",
       "<table border=\"1\" class=\"dataframe\">\n",
       "  <thead>\n",
       "    <tr style=\"text-align: right;\">\n",
       "      <th></th>\n",
       "      <th>id</th>\n",
       "      <th>image</th>\n",
       "      <th>price</th>\n",
       "      <th>make</th>\n",
       "      <th>model</th>\n",
       "      <th>year</th>\n",
       "      <th>km</th>\n",
       "      <th>fuelType</th>\n",
       "      <th>cv</th>\n",
       "      <th>site</th>\n",
       "    </tr>\n",
       "  </thead>\n",
       "  <tbody>\n",
       "    <tr>\n",
       "      <th>0</th>\n",
       "      <td>8125894</td>\n",
       "      <td>https://images.coches.com/_vo_/fotos/usados/20...</td>\n",
       "      <td>26.900 €</td>\n",
       "      <td>Audi</td>\n",
       "      <td>A3</td>\n",
       "      <td>2014</td>\n",
       "      <td>75.000</td>\n",
       "      <td>Gasolina</td>\n",
       "      <td>300</td>\n",
       "      <td>com</td>\n",
       "    </tr>\n",
       "  </tbody>\n",
       "</table>\n",
       "</div>"
      ],
      "text/plain": [
       "        id                                              image     price  make  \\\n",
       "0  8125894  https://images.coches.com/_vo_/fotos/usados/20...  26.900 €  Audi   \n",
       "\n",
       "  model  year      km  fuelType   cv site  \n",
       "0    A3  2014  75.000  Gasolina  300  com  "
      ]
     },
     "execution_count": 73,
     "metadata": {},
     "output_type": "execute_result"
    }
   ],
   "source": [
    "print(len(df_com))\n",
    "df_com.head(1)"
   ]
  }
 ],
 "metadata": {
  "kernelspec": {
   "display_name": ".venv",
   "language": "python",
   "name": "python3"
  },
  "language_info": {
   "codemirror_mode": {
    "name": "ipython",
    "version": 3
   },
   "file_extension": ".py",
   "mimetype": "text/x-python",
   "name": "python",
   "nbconvert_exporter": "python",
   "pygments_lexer": "ipython3",
   "version": "3.8.2"
  }
 },
 "nbformat": 4,
 "nbformat_minor": 2
}
